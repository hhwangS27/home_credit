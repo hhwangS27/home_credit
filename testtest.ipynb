{
 "cells": [
  {
   "cell_type": "code",
   "execution_count": 1,
   "metadata": {
    "collapsed": true
   },
   "outputs": [],
   "source": [
    "import sys\n",
    "import math\n",
    "assert sys.version_info >= (3, 5) # make sure we have Python 3.5+\n",
    "\n",
    "from pyspark.sql import SparkSession, functions, types\n",
    "cluster_seeds = ['199.60.17.188', '199.60.17.216']\n",
    "spark = SparkSession.builder.appName('cassandra read tables and etl') \\\n",
    "    .config('spark.cassandra.connection.host', ','.join(cluster_seeds)).getOrCreate()\n",
    "assert spark.version >= '2.3' # make sure we have Spark 2.3+\n",
    "sc = spark.sparkContext"
   ]
  },
  {
   "cell_type": "code",
   "execution_count": 2,
   "metadata": {},
   "outputs": [],
   "source": [
    "from pyspark.ml import Pipeline\n",
    "from pyspark.ml.feature import StringIndexer, VectorAssembler\n",
    "from pyspark.ml.classification import GBTClassifier, RandomForestClassifier\n",
    "from pyspark.ml.evaluation import RegressionEvaluator"
   ]
  },
  {
   "cell_type": "code",
   "execution_count": 12,
   "metadata": {},
   "outputs": [],
   "source": [
    "ready_train = spark.read.option(\"inferSchema\", True).csv('/Users/michaelyang/Downloads/all_data/application_train.csv',\n",
    "                                   header=True)"
   ]
  },
  {
   "cell_type": "code",
   "execution_count": 13,
   "metadata": {},
   "outputs": [],
   "source": [
    "ready_train = ready_train.limit(50000)"
   ]
  },
  {
   "cell_type": "code",
   "execution_count": 14,
   "metadata": {
    "collapsed": true
   },
   "outputs": [],
   "source": [
    "ready_train = ready_train.withColumn('CREDIT_INCOME_PERCENT', ready_train.AMT_CREDIT / ready_train.AMT_INCOME_TOTAL)\n",
    "ready_train = ready_train.withColumn('ANNUITY_INCOME_PERCENT', ready_train.AMT_ANNUITY/ ready_train.AMT_INCOME_TOTAL)\n",
    "ready_train = ready_train.withColumn('CREDIT_TERM', ready_train.AMT_ANNUITY/ ready_train.AMT_CREDIT)"
   ]
  },
  {
   "cell_type": "code",
   "execution_count": 15,
   "metadata": {},
   "outputs": [],
   "source": [
    "from ETL import ETL, get_dummies_spark\n",
    "train_cat_encoded = get_dummies_spark(ready_train,'SK_ID_CURR','ready_train')\n",
    "numerical_feats = [f for f, t in ready_train.dtypes if t != 'string']\n",
    "train_num_df = ready_train.select(numerical_feats)\n",
    "ready_train = train_cat_encoded.join(train_num_df,on = 'SK_ID_CURR')"
   ]
  },
  {
   "cell_type": "code",
   "execution_count": 16,
   "metadata": {},
   "outputs": [],
   "source": [
    "import pandas as pd"
   ]
  },
  {
   "cell_type": "code",
   "execution_count": 6,
   "metadata": {},
   "outputs": [],
   "source": [
    "from pyspark.mllib.stat import Statistics\n",
    "import pandas as pd\n",
    "\n",
    "# df = sqlCtx.read.format('com.databricks.spark.csv').option('header', 'true').option('inferschema', 'true').load('corr_test.csv')\n",
    "df = ready_train.drop('SK_ID_CURR').drop('TARGET')\n",
    "col_names = df.columns\n",
    "features = df.rdd.map(lambda row: row[0:])\n",
    "corr_mat=Statistics.corr(features, method=\"pearson\")\n",
    "corr_df = pd.DataFrame(corr_mat)\n",
    "corr_df.index, corr_df.columns = col_names, col_names"
   ]
  },
  {
   "cell_type": "code",
   "execution_count": 9,
   "metadata": {},
   "outputs": [],
   "source": [
    "import numpy as np\n",
    "upper = corr_df.where(np.triu(np.ones(corr_df.shape), k=1).astype(np.bool))\n",
    "to_drop = [column for column in upper.columns if any(upper[column] > 0.9)]"
   ]
  },
  {
   "cell_type": "code",
   "execution_count": 12,
   "metadata": {
    "collapsed": true
   },
   "outputs": [],
   "source": [
    "for col in ready_train.columns:\n",
    "    if col in to_drop:\n",
    "        ready_train.drop(col)"
   ]
  },
  {
   "cell_type": "code",
   "execution_count": 29,
   "metadata": {
    "collapsed": true
   },
   "outputs": [
    {
     "ename": "KeyboardInterrupt",
     "evalue": "",
     "traceback": [
      "\u001b[0;31m---------------------------------------------------------------------------\u001b[0m",
      "\u001b[0;31mKeyboardInterrupt\u001b[0m                         Traceback (most recent call last)",
      "\u001b[0;32m<ipython-input-29-7d3defdfa05e>\u001b[0m in \u001b[0;36m<module>\u001b[0;34m()\u001b[0m\n\u001b[1;32m      1\u001b[0m \u001b[0mto_drop\u001b[0m \u001b[0;34m=\u001b[0m \u001b[0;34m[\u001b[0m\u001b[0;34m]\u001b[0m\u001b[0;34m\u001b[0m\u001b[0m\n\u001b[1;32m      2\u001b[0m \u001b[0;32mfor\u001b[0m \u001b[0mcol\u001b[0m \u001b[0;32min\u001b[0m \u001b[0mready_train\u001b[0m\u001b[0;34m.\u001b[0m\u001b[0mcolumns\u001b[0m\u001b[0;34m:\u001b[0m\u001b[0;34m\u001b[0m\u001b[0m\n\u001b[0;32m----> 3\u001b[0;31m     \u001b[0;32mif\u001b[0m \u001b[0mready_train\u001b[0m\u001b[0;34m.\u001b[0m\u001b[0mfilter\u001b[0m\u001b[0;34m(\u001b[0m\u001b[0mready_train\u001b[0m\u001b[0;34m[\u001b[0m\u001b[0mcol\u001b[0m\u001b[0;34m]\u001b[0m\u001b[0;34m.\u001b[0m\u001b[0misNull\u001b[0m\u001b[0;34m(\u001b[0m\u001b[0;34m)\u001b[0m\u001b[0;34m)\u001b[0m\u001b[0;34m.\u001b[0m\u001b[0mcount\u001b[0m\u001b[0;34m(\u001b[0m\u001b[0;34m)\u001b[0m \u001b[0;34m>\u001b[0m \u001b[0;36m50000\u001b[0m\u001b[0;34m:\u001b[0m\u001b[0;34m\u001b[0m\u001b[0m\n\u001b[0m\u001b[1;32m      4\u001b[0m         \u001b[0mto_drop\u001b[0m\u001b[0;34m.\u001b[0m\u001b[0mappend\u001b[0m\u001b[0;34m(\u001b[0m\u001b[0mcol\u001b[0m\u001b[0;34m)\u001b[0m\u001b[0;34m\u001b[0m\u001b[0m\n\u001b[1;32m      5\u001b[0m \u001b[0;34m\u001b[0m\u001b[0m\n",
      "\u001b[0;32m/usr/local/lib/python3.7/site-packages/pyspark/sql/dataframe.py\u001b[0m in \u001b[0;36mcount\u001b[0;34m(self)\u001b[0m\n\u001b[1;32m    453\u001b[0m         \u001b[0;36m2\u001b[0m\u001b[0;34m\u001b[0m\u001b[0m\n\u001b[1;32m    454\u001b[0m         \"\"\"\n\u001b[0;32m--> 455\u001b[0;31m         \u001b[0;32mreturn\u001b[0m \u001b[0mint\u001b[0m\u001b[0;34m(\u001b[0m\u001b[0mself\u001b[0m\u001b[0;34m.\u001b[0m\u001b[0m_jdf\u001b[0m\u001b[0;34m.\u001b[0m\u001b[0mcount\u001b[0m\u001b[0;34m(\u001b[0m\u001b[0;34m)\u001b[0m\u001b[0;34m)\u001b[0m\u001b[0;34m\u001b[0m\u001b[0m\n\u001b[0m\u001b[1;32m    456\u001b[0m \u001b[0;34m\u001b[0m\u001b[0m\n\u001b[1;32m    457\u001b[0m     \u001b[0;34m@\u001b[0m\u001b[0mignore_unicode_prefix\u001b[0m\u001b[0;34m\u001b[0m\u001b[0m\n",
      "\u001b[0;32m~/Library/Python/3.7/lib/python/site-packages/py4j/java_gateway.py\u001b[0m in \u001b[0;36m__call__\u001b[0;34m(self, *args)\u001b[0m\n\u001b[1;32m   1282\u001b[0m             \u001b[0mproto\u001b[0m\u001b[0;34m.\u001b[0m\u001b[0mEND_COMMAND_PART\u001b[0m\u001b[0;34m\u001b[0m\u001b[0m\n\u001b[1;32m   1283\u001b[0m \u001b[0;34m\u001b[0m\u001b[0m\n\u001b[0;32m-> 1284\u001b[0;31m         \u001b[0manswer\u001b[0m \u001b[0;34m=\u001b[0m \u001b[0mself\u001b[0m\u001b[0;34m.\u001b[0m\u001b[0mgateway_client\u001b[0m\u001b[0;34m.\u001b[0m\u001b[0msend_command\u001b[0m\u001b[0;34m(\u001b[0m\u001b[0mcommand\u001b[0m\u001b[0;34m)\u001b[0m\u001b[0;34m\u001b[0m\u001b[0m\n\u001b[0m\u001b[1;32m   1285\u001b[0m         return_value = get_return_value(\n\u001b[1;32m   1286\u001b[0m             answer, self.gateway_client, self.target_id, self.name)\n",
      "\u001b[0;32m~/Library/Python/3.7/lib/python/site-packages/py4j/java_gateway.py\u001b[0m in \u001b[0;36msend_command\u001b[0;34m(self, command, retry, binary)\u001b[0m\n\u001b[1;32m   1012\u001b[0m         \u001b[0mconnection\u001b[0m \u001b[0;34m=\u001b[0m \u001b[0mself\u001b[0m\u001b[0;34m.\u001b[0m\u001b[0m_get_connection\u001b[0m\u001b[0;34m(\u001b[0m\u001b[0;34m)\u001b[0m\u001b[0;34m\u001b[0m\u001b[0m\n\u001b[1;32m   1013\u001b[0m         \u001b[0;32mtry\u001b[0m\u001b[0;34m:\u001b[0m\u001b[0;34m\u001b[0m\u001b[0m\n\u001b[0;32m-> 1014\u001b[0;31m             \u001b[0mresponse\u001b[0m \u001b[0;34m=\u001b[0m \u001b[0mconnection\u001b[0m\u001b[0;34m.\u001b[0m\u001b[0msend_command\u001b[0m\u001b[0;34m(\u001b[0m\u001b[0mcommand\u001b[0m\u001b[0;34m)\u001b[0m\u001b[0;34m\u001b[0m\u001b[0m\n\u001b[0m\u001b[1;32m   1015\u001b[0m             \u001b[0;32mif\u001b[0m \u001b[0mbinary\u001b[0m\u001b[0;34m:\u001b[0m\u001b[0;34m\u001b[0m\u001b[0m\n\u001b[1;32m   1016\u001b[0m                 \u001b[0;32mreturn\u001b[0m \u001b[0mresponse\u001b[0m\u001b[0;34m,\u001b[0m \u001b[0mself\u001b[0m\u001b[0;34m.\u001b[0m\u001b[0m_create_connection_guard\u001b[0m\u001b[0;34m(\u001b[0m\u001b[0mconnection\u001b[0m\u001b[0;34m)\u001b[0m\u001b[0;34m\u001b[0m\u001b[0m\n",
      "\u001b[0;32m~/Library/Python/3.7/lib/python/site-packages/py4j/java_gateway.py\u001b[0m in \u001b[0;36msend_command\u001b[0;34m(self, command)\u001b[0m\n\u001b[1;32m   1179\u001b[0m \u001b[0;34m\u001b[0m\u001b[0m\n\u001b[1;32m   1180\u001b[0m         \u001b[0;32mtry\u001b[0m\u001b[0;34m:\u001b[0m\u001b[0;34m\u001b[0m\u001b[0m\n\u001b[0;32m-> 1181\u001b[0;31m             \u001b[0manswer\u001b[0m \u001b[0;34m=\u001b[0m \u001b[0msmart_decode\u001b[0m\u001b[0;34m(\u001b[0m\u001b[0mself\u001b[0m\u001b[0;34m.\u001b[0m\u001b[0mstream\u001b[0m\u001b[0;34m.\u001b[0m\u001b[0mreadline\u001b[0m\u001b[0;34m(\u001b[0m\u001b[0;34m)\u001b[0m\u001b[0;34m[\u001b[0m\u001b[0;34m:\u001b[0m\u001b[0;34m-\u001b[0m\u001b[0;36m1\u001b[0m\u001b[0;34m]\u001b[0m\u001b[0;34m)\u001b[0m\u001b[0;34m\u001b[0m\u001b[0m\n\u001b[0m\u001b[1;32m   1182\u001b[0m             \u001b[0mlogger\u001b[0m\u001b[0;34m.\u001b[0m\u001b[0mdebug\u001b[0m\u001b[0;34m(\u001b[0m\u001b[0;34m\"Answer received: {0}\"\u001b[0m\u001b[0;34m.\u001b[0m\u001b[0mformat\u001b[0m\u001b[0;34m(\u001b[0m\u001b[0manswer\u001b[0m\u001b[0;34m)\u001b[0m\u001b[0;34m)\u001b[0m\u001b[0;34m\u001b[0m\u001b[0m\n\u001b[1;32m   1183\u001b[0m             \u001b[0;32mif\u001b[0m \u001b[0manswer\u001b[0m\u001b[0;34m.\u001b[0m\u001b[0mstartswith\u001b[0m\u001b[0;34m(\u001b[0m\u001b[0mproto\u001b[0m\u001b[0;34m.\u001b[0m\u001b[0mRETURN_MESSAGE\u001b[0m\u001b[0;34m)\u001b[0m\u001b[0;34m:\u001b[0m\u001b[0;34m\u001b[0m\u001b[0m\n",
      "\u001b[0;32m/usr/local/Cellar/python/3.7.0/Frameworks/Python.framework/Versions/3.7/lib/python3.7/socket.py\u001b[0m in \u001b[0;36mreadinto\u001b[0;34m(self, b)\u001b[0m\n\u001b[1;32m    587\u001b[0m         \u001b[0;32mwhile\u001b[0m \u001b[0;32mTrue\u001b[0m\u001b[0;34m:\u001b[0m\u001b[0;34m\u001b[0m\u001b[0m\n\u001b[1;32m    588\u001b[0m             \u001b[0;32mtry\u001b[0m\u001b[0;34m:\u001b[0m\u001b[0;34m\u001b[0m\u001b[0m\n\u001b[0;32m--> 589\u001b[0;31m                 \u001b[0;32mreturn\u001b[0m \u001b[0mself\u001b[0m\u001b[0;34m.\u001b[0m\u001b[0m_sock\u001b[0m\u001b[0;34m.\u001b[0m\u001b[0mrecv_into\u001b[0m\u001b[0;34m(\u001b[0m\u001b[0mb\u001b[0m\u001b[0;34m)\u001b[0m\u001b[0;34m\u001b[0m\u001b[0m\n\u001b[0m\u001b[1;32m    590\u001b[0m             \u001b[0;32mexcept\u001b[0m \u001b[0mtimeout\u001b[0m\u001b[0;34m:\u001b[0m\u001b[0;34m\u001b[0m\u001b[0m\n\u001b[1;32m    591\u001b[0m                 \u001b[0mself\u001b[0m\u001b[0;34m.\u001b[0m\u001b[0m_timeout_occurred\u001b[0m \u001b[0;34m=\u001b[0m \u001b[0;32mTrue\u001b[0m\u001b[0;34m\u001b[0m\u001b[0m\n",
      "\u001b[0;31mKeyboardInterrupt\u001b[0m: "
     ],
     "output_type": "error"
    }
   ],
   "source": [
    "to_drop = []\n",
    "for col in ready_train.columns:\n",
    "    if ready_train.filter(ready_train[col].isNull()).count() > 50000:\n",
    "        to_drop.append(col)"
   ]
  },
  {
   "cell_type": "code",
   "execution_count": 50,
   "metadata": {
    "collapsed": true
   },
   "outputs": [],
   "source": [
    "from pyspark.sql.functions import isnull, when, count, col\n",
    "\n",
    "temp = ready_train.select([count(when(isnull(c), c)).alias(c) for c in ready_train.columns]).collect()"
   ]
  },
  {
   "cell_type": "code",
   "execution_count": 61,
   "metadata": {
    "collapsed": true
   },
   "outputs": [
    {
     "data": {
      "text/plain": [
       "[]"
      ]
     },
     "execution_count": 61,
     "metadata": {},
     "output_type": "execute_result"
    }
   ],
   "source": [
    "size = ready_train.count()\n",
    "threshold = 0.75 * size\n",
    "to_drop = []\n",
    "for col in ready_train.columns:\n",
    "    if temp[0][col] > threshold:\n",
    "        to_drop.append(col)\n",
    "\n",
    "to_drop"
   ]
  },
  {
   "cell_type": "code",
   "execution_count": 6,
   "metadata": {
    "collapsed": true
   },
   "outputs": [],
   "source": [
    "# assembler\n",
    "features = list(set(ready_train.columns) - set(['SK_ID_CURR','TARGET']))\n",
    "feature_assembler = VectorAssembler(inputCols=features ,outputCol='features')\n",
    "# classifier\n",
    "classifier = RandomForestClassifier(labelCol='TARGET',maxBins=60,maxDepth=6)\n",
    "# pipeline\n",
    "credit_pipeline = Pipeline(stages=[feature_assembler, classifier])\n",
    "# fit and see feature importance\n",
    "credit_model = credit_pipeline.fit(ready_train.na.fill(-999))"
   ]
  },
  {
   "cell_type": "code",
   "execution_count": 17,
   "metadata": {
    "collapsed": true
   },
   "outputs": [
    {
     "data": {
      "text/plain": [
       "{0.0: 'e_ready_train_WEEKDAY_APPR_PROCESS_START_SUNDAY',\n 1.0244084585201484e-05: 'e_ready_train_WEEKDAY_APPR_PROCESS_START_MONDAY',\n 1.6952551364207237e-05: 'e_ready_train_ORGANIZATION_TYPE_Electricity',\n 1.753458508379548e-05: 'e_ready_train_FLAG_OWN_REALTY_N',\n 2.2130415251301406e-05: 'e_ready_train_ORGANIZATION_TYPE_Industry: type 11',\n 3.477008669750142e-05: 'e_ready_train_NAME_HOUSING_TYPE_Office apartment',\n 3.778397902382731e-05: 'e_ready_train_WEEKDAY_APPR_PROCESS_START_WEDNESDAY',\n 3.890529739265786e-05: 'FLAG_DOCUMENT_20',\n 4.212310735551919e-05: 'e_ready_train_NAME_HOUSING_TYPE_Co-op apartment',\n 4.565910968164815e-05: 'e_ready_train_WALLSMATERIAL_MODE_Wooden',\n 5.138345168496126e-05: 'e_ready_train_NAME_TYPE_SUITE_Family',\n 5.228396772057454e-05: 'e_ready_train_OCCUPATION_TYPE_Realty agents',\n 5.67999772272969e-05: 'e_ready_train_ORGANIZATION_TYPE_Industry: type 3',\n 5.9250104204871894e-05: 'e_ready_train_NAME_EDUCATION_TYPE_Incomplete higher',\n 6.12087331991179e-05: 'e_ready_train_NAME_TYPE_SUITE_Group of people',\n 6.20750834271508e-05: 'e_ready_train_EMERGENCYSTATE_MODE_unknown',\n 6.285083219009892e-05: 'REG_REGION_NOT_LIVE_REGION',\n 6.327812340161746e-05: 'e_ready_train_NAME_TYPE_SUITE_Children',\n 6.54049604886938e-05: 'FLAG_DOCUMENT_9',\n 7.139508057455646e-05: 'e_ready_train_WEEKDAY_APPR_PROCESS_START_THURSDAY',\n 7.183628528322044e-05: 'FLAG_DOCUMENT_8',\n 7.37066429900515e-05: 'e_ready_train_WEEKDAY_APPR_PROCESS_START_SATURDAY',\n 7.559634533551615e-05: 'COMMONAREA_MEDI',\n 7.570959148939726e-05: 'e_ready_train_ORGANIZATION_TYPE_Industry: type 6',\n 8.018251924466658e-05: 'e_ready_train_ORGANIZATION_TYPE_Trade: type 3',\n 8.22610761460565e-05: 'e_ready_train_FONDKAPREMONT_MODE_unknown',\n 8.282574882101287e-05: 'e_ready_train_ORGANIZATION_TYPE_Trade: type 2',\n 8.733569342034074e-05: 'e_ready_train_EMERGENCYSTATE_MODE_Yes',\n 9.037489913671377e-05: 'e_ready_train_WEEKDAY_APPR_PROCESS_START_TUESDAY',\n 9.312579787514211e-05: 'FLAG_CONT_MOBILE',\n 9.465567076497977e-05: 'e_ready_train_HOUSETYPE_MODE_specific housing',\n 0.00010236983493437805: 'e_ready_train_ORGANIZATION_TYPE_Industry: type 10',\n 0.00010598668582841551: 'NONLIVINGAREA_MEDI',\n 0.00010771323751245128: 'FLAG_PHONE',\n 0.00010874700147944803: 'FLOORSMIN_AVG',\n 0.00010937480638444078: 'e_ready_train_NAME_EDUCATION_TYPE_Lower secondary',\n 0.00010942559766945572: 'e_ready_train_ORGANIZATION_TYPE_Industry: type 12',\n 0.0001250142826783054: 'FLAG_WORK_PHONE',\n 0.0001283822481399187: 'FLAG_DOCUMENT_18',\n 0.00013085258756480962: 'e_ready_train_OCCUPATION_TYPE_Security staff',\n 0.00013289194602227172: 'e_ready_train_ORGANIZATION_TYPE_Insurance',\n 0.00013304058227138168: 'e_ready_train_OCCUPATION_TYPE_Waiters/barmen staff',\n 0.00013447533380942322: 'e_ready_train_ORGANIZATION_TYPE_School',\n 0.00014706407032870982: 'e_ready_train_ORGANIZATION_TYPE_Military',\n 0.00014975256077758318: 'e_ready_train_WALLSMATERIAL_MODE_Others',\n 0.00015768271098118078: 'CNT_CHILDREN',\n 0.00016041283170613842: 'e_ready_train_ORGANIZATION_TYPE_Bank',\n 0.00017166367839315544: 'e_ready_train_ORGANIZATION_TYPE_Trade: type 1',\n 0.0001723058958298269: 'e_ready_train_OCCUPATION_TYPE_Managers',\n 0.00017591796442161715: 'LIVE_CITY_NOT_WORK_CITY',\n 0.0001762767816546088: 'e_ready_train_WEEKDAY_APPR_PROCESS_START_FRIDAY',\n 0.00017797454873578076: 'e_ready_train_ORGANIZATION_TYPE_Restaurant',\n 0.00017857394821540427: 'e_ready_train_WALLSMATERIAL_MODE_Block',\n 0.00018657400730895092: 'FLAG_DOCUMENT_21',\n 0.00018828372330645593: 'e_ready_train_ORGANIZATION_TYPE_Business Entity Type 3',\n 0.00019259200431152927: 'e_ready_train_HOUSETYPE_MODE_terraced house',\n 0.0001943333722411663: 'e_ready_train_FLAG_OWN_REALTY_Y',\n 0.00020346354163685776: 'e_ready_train_ORGANIZATION_TYPE_Transport: type 1',\n 0.00020928650358522944: 'e_ready_train_ORGANIZATION_TYPE_Services',\n 0.00021026209840974835: 'e_ready_train_OCCUPATION_TYPE_Accountants',\n 0.0002132463993404854: 'AMT_REQ_CREDIT_BUREAU_DAY',\n 0.0002179316891534515: 'e_ready_train_FONDKAPREMONT_MODE_not specified',\n 0.0002246049138411775: 'REG_REGION_NOT_WORK_REGION',\n 0.00022847821839284103: 'e_ready_train_HOUSETYPE_MODE_unknown',\n 0.00023836980937625213: 'BASEMENTAREA_MODE',\n 0.0002579834403868141: 'YEARS_BUILD_MEDI',\n 0.0002583081939910677: 'e_ready_train_OCCUPATION_TYPE_Sales staff',\n 0.0002678661842483982: 'e_ready_train_EMERGENCYSTATE_MODE_No',\n 0.00027002558871807973: 'ELEVATORS_MODE',\n 0.0002766588631970263: 'e_ready_train_NAME_TYPE_SUITE_Other_B',\n 0.00028804817257536763: 'e_ready_train_ORGANIZATION_TYPE_Advertising',\n 0.00029280777150857894: 'e_ready_train_NAME_INCOME_TYPE_State servant',\n 0.00032060308916878654: 'e_ready_train_OCCUPATION_TYPE_Cooking staff',\n 0.00033147208723126266: 'e_ready_train_OCCUPATION_TYPE_Secretaries',\n 0.0003474914928675296: 'NONLIVINGAPARTMENTS_MODE',\n 0.0003476423467007597: 'LANDAREA_MODE',\n 0.0003552314493549101: 'e_ready_train_NAME_HOUSING_TYPE_Rented apartment',\n 0.00036615268248251805: 'LANDAREA_MEDI',\n 0.00038474218816658283: 'e_ready_train_ORGANIZATION_TYPE_Transport: type 3',\n 0.0004064829107173867: 'e_ready_train_ORGANIZATION_TYPE_Mobile',\n 0.0004092230995040723: 'YEARS_BUILD_AVG',\n 0.0004306157708869156: 'e_ready_train_ORGANIZATION_TYPE_Security',\n 0.00046516564366075785: 'LIVINGAPARTMENTS_MODE',\n 0.0004711552005623455: 'BASEMENTAREA_MEDI',\n 0.0004715194946977665: 'e_ready_train_WALLSMATERIAL_MODE_Panel',\n 0.0004824387525198654: 'e_ready_train_NAME_FAMILY_STATUS_Separated',\n 0.0004871307753458856: 'AMT_REQ_CREDIT_BUREAU_HOUR',\n 0.0004900213804601629: 'ENTRANCES_MEDI',\n 0.0005046936229892967: 'e_ready_train_NAME_TYPE_SUITE_Unaccompanied',\n 0.0005048410031396699: 'NONLIVINGAPARTMENTS_AVG',\n 0.0005357661118689157: 'OBS_30_CNT_SOCIAL_CIRCLE',\n 0.0005390296251914027: 'NONLIVINGAREA_MODE',\n 0.0005715415923005159: 'e_ready_train_ORGANIZATION_TYPE_Construction',\n 0.0005777197154547962: 'e_ready_train_NAME_FAMILY_STATUS_Married',\n 0.0006298908129115608: 'ENTRANCES_MODE',\n 0.0006316402879542183: 'e_ready_train_NAME_FAMILY_STATUS_Civil marriage',\n 0.000654089753576546: 'AMT_REQ_CREDIT_BUREAU_WEEK',\n 0.0006640195487153752: 'BASEMENTAREA_AVG',\n 0.0007254757693828957: 'e_ready_train_NAME_HOUSING_TYPE_With parents',\n 0.0007368933737207539: 'FLOORSMIN_MEDI',\n 0.0007534003649737961: 'NONLIVINGAREA_AVG',\n 0.0007552898418109257: 'COMMONAREA_MODE',\n 0.000756879211330328: 'NONLIVINGAPARTMENTS_MEDI',\n 0.0007905449559048263: 'LIVINGAREA_AVG',\n 0.0007960867850697854: 'LIVINGAPARTMENTS_MEDI',\n 0.0007971493089664272: 'OBS_60_CNT_SOCIAL_CIRCLE',\n 0.0007981107380584345: 'YEARS_BEGINEXPLUATATION_MEDI',\n 0.0009039624322575877: 'e_ready_train_ORGANIZATION_TYPE_Self-employed',\n 0.0009074620678234758: 'e_ready_train_OCCUPATION_TYPE_Low-skill Laborers',\n 0.0009124009666320572: 'COMMONAREA_AVG',\n 0.0010085497562728235: 'LIVINGAPARTMENTS_AVG',\n 0.0010361930888315772: 'FLAG_DOCUMENT_6',\n 0.001042365023925748: 'e_ready_train_OCCUPATION_TYPE_Core staff',\n 0.0010776453013419888: 'e_ready_train_NAME_HOUSING_TYPE_House / apartment',\n 0.001148360318452724: 'YEARS_BUILD_MODE',\n 0.0011686438304060085: 'AMT_REQ_CREDIT_BUREAU_YEAR',\n 0.0012232457232505946: 'LANDAREA_AVG',\n 0.0012559084339072036: 'AMT_INCOME_TOTAL',\n 0.001265598844695856: 'e_ready_train_NAME_FAMILY_STATUS_Single / not married',\n 0.001360530753534067: 'ENTRANCES_AVG',\n 0.0014046507910273126: 'CNT_FAM_MEMBERS',\n 0.0014562290805141178: 'HOUR_APPR_PROCESS_START',\n 0.0014701104578364243: 'LIVINGAREA_MEDI',\n 0.0015466165820671965: 'FLOORSMIN_MODE',\n 0.0015988568673177168: 'FLOORSMAX_MODE',\n 0.0016936266729654342: 'e_ready_train_FLAG_OWN_CAR_Y',\n 0.0016953673273220602: 'DEF_30_CNT_SOCIAL_CIRCLE',\n 0.0017918680133139318: 'ELEVATORS_MEDI',\n 0.001864284503634211: 'ELEVATORS_AVG',\n 0.0018741438571800867: 'DEF_60_CNT_SOCIAL_CIRCLE',\n 0.0020179981404023755: 'AMT_REQ_CREDIT_BUREAU_QRT',\n 0.0023141058091021593: 'CREDIT_INCOME_PERCENT',\n 0.0023624976441427867: 'e_ready_train_FLAG_OWN_CAR_N',\n 0.002510195964627555: 'e_ready_train_NAME_CONTRACT_TYPE_Revolving loans',\n 0.0026352743731376453: 'AMT_REQ_CREDIT_BUREAU_MON',\n 0.0026379170213337287: 'FLOORSMAX_AVG',\n 0.0026657455381293555: 'APARTMENTS_AVG',\n 0.0029620855868332466: 'e_ready_train_WALLSMATERIAL_MODE_unknown',\n 0.0031035068626443754: 'FLAG_EMP_PHONE',\n 0.0035390762283123707: 'e_ready_train_HOUSETYPE_MODE_block of flats',\n 0.003580313391686904: 'e_ready_train_OCCUPATION_TYPE_unknown',\n 0.0036307859622912997: 'AMT_CREDIT',\n 0.0036498689525553602: 'AMT_ANNUITY',\n 0.004054231123024244: 'ANNUITY_INCOME_PERCENT',\n 0.004063169659052271: 'YEARS_BEGINEXPLUATATION_AVG',\n 0.0044980613458668415: 'e_ready_train_OCCUPATION_TYPE_Drivers',\n 0.004556111314450274: 'DAYS_REGISTRATION',\n 0.004734176905733824: 'e_ready_train_NAME_CONTRACT_TYPE_Cash loans',\n 0.004833121570928221: 'LIVINGAREA_MODE',\n 0.005019619081188428: 'FLAG_DOCUMENT_3',\n 0.005086703736710275: 'DAYS_ID_PUBLISH',\n 0.005198761537241762: 'YEARS_BEGINEXPLUATATION_MODE',\n 0.00552204508779611: 'TOTALAREA_MODE',\n 0.005640833577488483: 'REG_CITY_NOT_LIVE_CITY',\n 0.005665070985184482: 'FLOORSMAX_MEDI',\n 0.0061927023738925354: 'APARTMENTS_MEDI',\n 0.006642782321933888: 'OWN_CAR_AGE',\n 0.007809304097279958: 'APARTMENTS_MODE',\n 0.008636295181231098: 'REG_CITY_NOT_WORK_CITY',\n 0.009000084393580311: 'e_ready_train_OCCUPATION_TYPE_Laborers',\n 0.009506178550030876: 'REGION_POPULATION_RELATIVE',\n 0.010455522885977462: 'e_ready_train_NAME_EDUCATION_TYPE_Secondary / secondary special',\n 0.011871180414950276: 'e_ready_train_CODE_GENDER_M',\n 0.013489475937093069: 'REGION_RATING_CLIENT',\n 0.014164091791236786: 'e_ready_train_NAME_INCOME_TYPE_Pensioner',\n 0.01478400327456977: 'AMT_GOODS_PRICE',\n 0.01801013288011615: 'e_ready_train_CODE_GENDER_F',\n 0.019347908554392848: 'e_ready_train_NAME_INCOME_TYPE_Working',\n 0.020212575841773297: 'REGION_RATING_CLIENT_W_CITY',\n 0.024830643612030037: 'e_ready_train_ORGANIZATION_TYPE_XNA',\n 0.025332580335029088: 'DAYS_EMPLOYED',\n 0.027644512048205033: 'DAYS_LAST_PHONE_CHANGE',\n 0.033737288734028: 'CREDIT_TERM',\n 0.03464148815615912: 'e_ready_train_NAME_EDUCATION_TYPE_Higher education',\n 0.05497735512727392: 'DAYS_BIRTH',\n 0.08614310450050693: 'EXT_SOURCE_1',\n 0.18074609658815402: 'EXT_SOURCE_3',\n 0.20605197608660292: 'EXT_SOURCE_2'}"
      ]
     },
     "execution_count": 17,
     "metadata": {},
     "output_type": "execute_result"
    }
   ],
   "source": [
    "x, y = (list(x) for x in zip(*sorted(zip(credit_model.stages[-1].\n",
    "                                         featureImportances, features), reverse = False)))"
   ]
  },
  {
   "cell_type": "code",
   "execution_count": 22,
   "metadata": {
    "collapsed": true
   },
   "outputs": [
    {
     "data": {
      "text/plain": [
       "['e_ready_train_NAME_INCOME_TYPE_Unemployed',\n 'FLAG_DOCUMENT_11',\n 'e_ready_train_NAME_INCOME_TYPE_Student',\n 'e_ready_train_FONDKAPREMONT_MODE_reg oper spec account',\n 'e_ready_train_ORGANIZATION_TYPE_Trade: type 7',\n 'e_ready_train_NAME_EDUCATION_TYPE_Academic degree',\n 'e_ready_train_NAME_INCOME_TYPE_Maternity leave',\n 'e_ready_train_ORGANIZATION_TYPE_Industry: type 7',\n 'e_ready_train_ORGANIZATION_TYPE_Legal Services',\n 'e_ready_train_ORGANIZATION_TYPE_Security Ministries',\n 'e_ready_train_ORGANIZATION_TYPE_Realtor',\n 'e_ready_train_ORGANIZATION_TYPE_Culture',\n 'e_ready_train_ORGANIZATION_TYPE_Telecom',\n 'FLAG_DOCUMENT_13',\n 'e_ready_train_OCCUPATION_TYPE_Private service staff',\n 'e_ready_train_ORGANIZATION_TYPE_Medicine',\n 'e_ready_train_ORGANIZATION_TYPE_Industry: type 13',\n 'e_ready_train_ORGANIZATION_TYPE_Industry: type 5',\n 'e_ready_train_ORGANIZATION_TYPE_Kindergarten',\n 'e_ready_train_WEEKDAY_APPR_PROCESS_START_SUNDAY',\n 'FLAG_DOCUMENT_2',\n 'e_ready_train_ORGANIZATION_TYPE_Housing',\n 'e_ready_train_ORGANIZATION_TYPE_Industry: type 9',\n 'FLAG_DOCUMENT_14',\n 'e_ready_train_ORGANIZATION_TYPE_Religion',\n 'e_ready_train_ORGANIZATION_TYPE_Industry: type 4',\n 'e_ready_train_ORGANIZATION_TYPE_Trade: type 4',\n 'e_ready_train_ORGANIZATION_TYPE_Trade: type 6',\n 'e_ready_train_OCCUPATION_TYPE_High skill tech staff',\n 'e_ready_train_NAME_TYPE_SUITE_unknown',\n 'e_ready_train_ORGANIZATION_TYPE_Business Entity Type 2',\n 'e_ready_train_NAME_INCOME_TYPE_Commercial associate',\n 'e_ready_train_ORGANIZATION_TYPE_Hotel',\n 'FLAG_DOCUMENT_7',\n 'FLAG_DOCUMENT_4',\n 'e_ready_train_ORGANIZATION_TYPE_Transport: type 2',\n 'e_ready_train_NAME_FAMILY_STATUS_Widow',\n 'e_ready_train_WALLSMATERIAL_MODE_Mixed',\n 'e_ready_train_ORGANIZATION_TYPE_Government',\n 'e_ready_train_ORGANIZATION_TYPE_Postal',\n 'e_ready_train_ORGANIZATION_TYPE_Industry: type 1',\n 'FLAG_DOCUMENT_19',\n 'e_ready_train_CODE_GENDER_XNA',\n 'e_ready_train_WALLSMATERIAL_MODE_Stone, brick',\n 'FLAG_DOCUMENT_16',\n 'LIVE_REGION_NOT_WORK_REGION',\n 'e_ready_train_ORGANIZATION_TYPE_Industry: type 8',\n 'e_ready_train_FONDKAPREMONT_MODE_org spec account',\n 'FLAG_DOCUMENT_17',\n 'e_ready_train_ORGANIZATION_TYPE_Business Entity Type 1',\n 'e_ready_train_ORGANIZATION_TYPE_University',\n 'FLAG_DOCUMENT_15',\n 'e_ready_train_ORGANIZATION_TYPE_Police',\n 'e_ready_train_OCCUPATION_TYPE_Medicine staff',\n 'FLAG_DOCUMENT_10',\n 'e_ready_train_NAME_HOUSING_TYPE_Municipal apartment',\n 'e_ready_train_ORGANIZATION_TYPE_Emergency',\n 'e_ready_train_ORGANIZATION_TYPE_Other',\n 'e_ready_train_ORGANIZATION_TYPE_Transport: type 4',\n 'e_ready_train_NAME_TYPE_SUITE_Spouse, partner',\n 'e_ready_train_FONDKAPREMONT_MODE_reg oper account',\n 'e_ready_train_OCCUPATION_TYPE_Cleaning staff',\n 'e_ready_train_OCCUPATION_TYPE_IT staff',\n 'e_ready_train_NAME_TYPE_SUITE_Other_A',\n 'e_ready_train_NAME_INCOME_TYPE_Businessman',\n 'e_ready_train_ORGANIZATION_TYPE_Trade: type 5',\n 'e_ready_train_OCCUPATION_TYPE_HR staff',\n 'e_ready_train_WALLSMATERIAL_MODE_Monolithic',\n 'e_ready_train_ORGANIZATION_TYPE_Industry: type 2',\n 'e_ready_train_NAME_FAMILY_STATUS_Unknown',\n 'FLAG_EMAIL',\n 'e_ready_train_ORGANIZATION_TYPE_Cleaning',\n 'e_ready_train_ORGANIZATION_TYPE_Agriculture',\n 'FLAG_MOBIL',\n 'FLAG_DOCUMENT_12',\n 'FLAG_DOCUMENT_5']"
      ]
     },
     "execution_count": 22,
     "metadata": {},
     "output_type": "execute_result"
    }
   ],
   "source": [
    "feature_importances = pd.DataFrame({'feature': features, \n",
    "                                    'importance': credit_model.stages[-1].featureImportances})\\\n",
    "    .sort_values('importance', ascending = False)\n",
    "zero_features = list(feature_importances[feature_importances['importance'] == 0.0]['feature'])\n",
    "zero_features"
   ]
  },
  {
   "cell_type": "code",
   "execution_count": 18,
   "metadata": {},
   "outputs": [],
   "source": [
    "from pyspark.ml.evaluation import BinaryClassificationEvaluator\n",
    "from pyspark.ml.tuning import ParamGridBuilder, CrossValidator"
   ]
  },
  {
   "cell_type": "code",
   "execution_count": 17,
   "metadata": {},
   "outputs": [],
   "source": [
    ""
   ]
  },
  {
   "cell_type": "code",
   "execution_count": 19,
   "metadata": {
    "collapsed": true
   },
   "outputs": [
    {
     "data": {
      "text/plain": [
       "CrossValidatorModel_4900ac24f0fd215f8c23"
      ]
     },
     "execution_count": 19,
     "metadata": {},
     "output_type": "execute_result"
    }
   ],
   "source": [
    "features = list(set(ready_train.columns) - set(['SK_ID_CURR', 'TARGET']))\n",
    "feature_assembler = VectorAssembler(inputCols=features, outputCol='features')\n",
    "classifier = GBTClassifier(labelCol='TARGET', maxBins=60)\n",
    "pipeline = Pipeline(stages=[feature_assembler, classifier])\n",
    "grid = ParamGridBuilder().addGrid(classifier.maxDepth,[3,4]).build()\n",
    "evaluator = BinaryClassificationEvaluator(labelCol='TARGET')\n",
    "cv = CrossValidator(estimator=pipeline, estimatorParamMaps=grid, evaluator=evaluator, numFolds= 5)\n",
    "cv.fit(ready_train.fillna(-999))"
   ]
  },
  {
   "cell_type": "code",
   "execution_count": 105,
   "metadata": {
    "collapsed": true
   },
   "outputs": [],
   "source": [
    ""
   ]
  },
  {
   "cell_type": "code",
   "execution_count": 106,
   "metadata": {},
   "outputs": [],
   "source": [
    ""
   ]
  },
  {
   "cell_type": "code",
   "execution_count": 106,
   "metadata": {
    "collapsed": true
   },
   "outputs": [],
   "source": [
    ""
   ]
  },
  {
   "cell_type": "code",
   "execution_count": 106,
   "metadata": {},
   "outputs": [],
   "source": [
    ""
   ]
  },
  {
   "cell_type": "code",
   "execution_count": 43,
   "metadata": {},
   "outputs": [],
   "source": [
    "\n"
   ]
  },
  {
   "cell_type": "code",
   "execution_count": 43,
   "metadata": {},
   "outputs": [],
   "source": [
    ""
   ]
  },
  {
   "cell_type": "code",
   "execution_count": 43,
   "metadata": {},
   "outputs": [],
   "source": [
    ""
   ]
  },
  {
   "cell_type": "code",
   "execution_count": 43,
   "metadata": {},
   "outputs": [],
   "source": [
    ""
   ]
  },
  {
   "cell_type": "code",
   "execution_count": 43,
   "metadata": {},
   "outputs": [],
   "source": [
    ""
   ]
  },
  {
   "cell_type": "code",
   "execution_count": 43,
   "metadata": {},
   "outputs": [],
   "source": [
    ""
   ]
  },
  {
   "cell_type": "code",
   "execution_count": null,
   "metadata": {},
   "outputs": [],
   "source": []
  }
 ],
 "metadata": {
  "kernelspec": {
   "display_name": "Python 2",
   "language": "python",
   "name": "python2"
  },
  "language_info": {
   "codemirror_mode": {
    "name": "ipython",
    "version": 2
   },
   "file_extension": ".py",
   "mimetype": "text/x-python",
   "name": "python",
   "nbconvert_exporter": "python",
   "pygments_lexer": "ipython2",
   "version": "2.7.6"
  }
 },
 "nbformat": 4,
 "nbformat_minor": 0
}
