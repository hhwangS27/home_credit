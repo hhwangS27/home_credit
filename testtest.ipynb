{
 "cells": [
  {
   "cell_type": "code",
   "execution_count": 1,
   "metadata": {
    "collapsed": true
   },
   "outputs": [],
   "source": [
    "import sys\n",
    "import math\n",
    "assert sys.version_info >= (3, 5) # make sure we have Python 3.5+\n",
    "\n",
    "from pyspark.sql import SparkSession, functions, types\n",
    "cluster_seeds = ['199.60.17.188', '199.60.17.216']\n",
    "spark = SparkSession.builder.appName('cassandra read tables and etl') \\\n",
    "    .config('spark.cassandra.connection.host', ','.join(cluster_seeds)).getOrCreate()\n",
    "assert spark.version >= '2.3' # make sure we have Spark 2.3+\n",
    "sc = spark.sparkContext"
   ]
  },
  {
   "cell_type": "code",
   "execution_count": 2,
   "metadata": {},
   "outputs": [],
   "source": [
    "bureau = spark.read.option(\"inferSchema\", True).\\\n",
    "    csv('/Users/michaelyang/Downloads/all_data/bureau.csv',header=True)\n",
    "bureau_balance = spark.read.option(\"inferSchema\", True).\\\n",
    "    csv('/Users/michaelyang/Downloads/all_data/bureau_balance.csv',header=True)\n"
   ]
  },
  {
   "cell_type": "code",
   "execution_count": 3,
   "metadata": {
    "collapsed": true
   },
   "outputs": [],
   "source": [
    ""
   ]
  },
  {
   "cell_type": "code",
   "execution_count": 40,
   "metadata": {},
   "outputs": [],
   "source": [
    "def agg_numeric(df, group_var,table_name):\n",
    "    \"\"\"Aggregates the numeric values in a dataframe. This can\n",
    "    be used to create features for each instance of the grouping variable.\n",
    "    \"\"\"\n",
    "    \n",
    "    # Remove id variables other than grouping variable\n",
    "    for col in df.columns:\n",
    "        if col != group_var and 'SK_ID' in col:\n",
    "            df = df.drop(col)\n",
    "            \n",
    "    numerical_feats= [f for f,t in df.dtypes if t != 'string']\n",
    "    numeric_df = df.select(numerical_feats)\n",
    "\n",
    "    # Group by the specified variable and calculate the statistics\n",
    "    # = numeric_df.groupBy(group_var).agg(['count', 'mean', 'max', 'min', 'sum']).reset_index()\n",
    "    count = numeric_df.groupBy(group_var).count()\\\n",
    "        .withColumnRenamed('count','count(%s)' %(table_name + group_var))\n",
    "    means = numeric_df.groupBy(group_var).avg().drop('avg(%s)' % (group_var))\n",
    "    maxs = numeric_df.groupBy(group_var).max().drop('max(%s)' % (group_var))\n",
    "    mins = numeric_df.groupBy(group_var).min().drop('min(%s)' % (group_var))\n",
    "    sums = numeric_df.groupBy(group_var).sum().drop('sum(%s)' % (group_var))\n",
    "    joined = count.join(means, count[group_var] == means[group_var]).drop(means[group_var])\n",
    "    joined1 = joined.join(maxs,joined[group_var] == maxs[group_var]).drop(maxs[group_var])\n",
    "    joined2 = joined1.join(mins,joined1[group_var] == mins[group_var]).drop(mins[group_var])\n",
    "    joined3 = joined2.join(sums,joined1[group_var] == sums[group_var]).drop(sums[group_var])\n",
    "    \n",
    "    return joined3"
   ]
  },
  {
   "cell_type": "code",
   "execution_count": 4,
   "metadata": {},
   "outputs": [],
   "source": [
    ""
   ]
  },
  {
   "cell_type": "code",
   "execution_count": 4,
   "metadata": {},
   "outputs": [],
   "source": [
    ""
   ]
  },
  {
   "cell_type": "code",
   "execution_count": 4,
   "metadata": {},
   "outputs": [],
   "source": [
    ""
   ]
  },
  {
   "cell_type": "code",
   "execution_count": 4,
   "metadata": {},
   "outputs": [],
   "source": [
    ""
   ]
  },
  {
   "cell_type": "code",
   "execution_count": 4,
   "metadata": {
    "collapsed": true
   },
   "outputs": [],
   "source": [
    ""
   ]
  },
  {
   "cell_type": "code",
   "execution_count": 4,
   "metadata": {
    "collapsed": true
   },
   "outputs": [],
   "source": [
    "\n"
   ]
  },
  {
   "cell_type": "code",
   "execution_count": 4,
   "metadata": {},
   "outputs": [],
   "source": [
    "def get_dummies(df,group_var):\n",
    "    \n",
    "    # parameter: a list of categorical features and a group key\n",
    "    pivot_cols= [f for f,t in df.dtypes if t == 'string']\n",
    "    keys = pivot_cols + [group_var] \n",
    "    \n",
    "    before = df.select(keys)\n",
    "\n",
    "    #Helper function to recursively join a list of dataframes\n",
    "    #Can be simplified if you only need two columns\n",
    "    def join_all(dfs,keys):\n",
    "        if len(dfs) > 1:\n",
    "            return dfs[0].join(join_all(dfs[1:],keys), on = keys, how = 'inner')\n",
    "        else:\n",
    "            return dfs[0]\n",
    "\n",
    "    dfs = []\n",
    "    combined = []\n",
    "    for pivot_col in pivot_cols:\n",
    "        pivotDF = before.groupBy(keys).pivot(pivot_col).count()\n",
    "        new_names = pivotDF.columns[:len(keys)] +  [\"e_{0}_{1}\".format(pivot_col, c)\n",
    "                                                    for c in pivotDF.columns[len(keys):]]        \n",
    "        df = pivotDF.toDF(*new_names).fillna(0)    \n",
    "        combined.append(df)\n",
    "\n",
    "    encoded = join_all(combined,keys)\n",
    "    \n",
    "    #drop its original columns\n",
    "    for col in pivot_cols:\n",
    "        encoded = encoded.drop(col)\n",
    "        \n",
    "    return encoded"
   ]
  },
  {
   "cell_type": "code",
   "execution_count": 5,
   "metadata": {},
   "outputs": [],
   "source": [
    "def count_categorical(df, group_var):\n",
    "    \"\"\"Computes counts and normalized counts for each observation\n",
    "    of `group_var` of each unique category in every categorical variable\n",
    "    \"\"\"\n",
    "    \n",
    "    # Select the categorical columns\n",
    "    encoded_df = get_dummies(df,group_var)\n",
    "\n",
    "    # Groupby the group var and calculate the sum and mean\n",
    "    categorical_encoded = encoded_df.groupBy(group_var).sum().drop('sum(%s)' % (group_var))\n",
    "    \n",
    "    return categorical_encoded"
   ]
  },
  {
   "cell_type": "code",
   "execution_count": 15,
   "metadata": {},
   "outputs": [
    {
     "data": {
      "text/plain": [
       "['SK_ID_CURR',\n 'count',\n 'avg(DAYS_CREDIT)',\n 'avg(CREDIT_DAY_OVERDUE)',\n 'avg(DAYS_CREDIT_ENDDATE)',\n 'avg(DAYS_ENDDATE_FACT)',\n 'avg(AMT_CREDIT_MAX_OVERDUE)',\n 'avg(CNT_CREDIT_PROLONG)',\n 'avg(AMT_CREDIT_SUM)',\n 'avg(AMT_CREDIT_SUM_DEBT)',\n 'avg(AMT_CREDIT_SUM_LIMIT)',\n 'avg(AMT_CREDIT_SUM_OVERDUE)',\n 'avg(DAYS_CREDIT_UPDATE)',\n 'avg(AMT_ANNUITY)',\n 'max(DAYS_CREDIT)',\n 'max(CREDIT_DAY_OVERDUE)',\n 'max(DAYS_CREDIT_ENDDATE)',\n 'max(DAYS_ENDDATE_FACT)',\n 'max(AMT_CREDIT_MAX_OVERDUE)',\n 'max(CNT_CREDIT_PROLONG)',\n 'max(AMT_CREDIT_SUM)',\n 'max(AMT_CREDIT_SUM_DEBT)',\n 'max(AMT_CREDIT_SUM_LIMIT)',\n 'max(AMT_CREDIT_SUM_OVERDUE)',\n 'max(DAYS_CREDIT_UPDATE)',\n 'max(AMT_ANNUITY)',\n 'min(DAYS_CREDIT)',\n 'min(CREDIT_DAY_OVERDUE)',\n 'min(DAYS_CREDIT_ENDDATE)',\n 'min(DAYS_ENDDATE_FACT)',\n 'min(AMT_CREDIT_MAX_OVERDUE)',\n 'min(CNT_CREDIT_PROLONG)',\n 'min(AMT_CREDIT_SUM)',\n 'min(AMT_CREDIT_SUM_DEBT)',\n 'min(AMT_CREDIT_SUM_LIMIT)',\n 'min(AMT_CREDIT_SUM_OVERDUE)',\n 'min(DAYS_CREDIT_UPDATE)',\n 'min(AMT_ANNUITY)',\n 'sum(DAYS_CREDIT)',\n 'sum(CREDIT_DAY_OVERDUE)',\n 'sum(DAYS_CREDIT_ENDDATE)',\n 'sum(DAYS_ENDDATE_FACT)',\n 'sum(AMT_CREDIT_MAX_OVERDUE)',\n 'sum(CNT_CREDIT_PROLONG)',\n 'sum(AMT_CREDIT_SUM)',\n 'sum(AMT_CREDIT_SUM_DEBT)',\n 'sum(AMT_CREDIT_SUM_LIMIT)',\n 'sum(AMT_CREDIT_SUM_OVERDUE)',\n 'sum(DAYS_CREDIT_UPDATE)',\n 'sum(AMT_ANNUITY)',\n 'sum(e_CREDIT_ACTIVE_Active)',\n 'sum(e_CREDIT_ACTIVE_Bad debt)',\n 'sum(e_CREDIT_ACTIVE_Closed)',\n 'sum(e_CREDIT_ACTIVE_Sold)',\n 'sum(e_CREDIT_CURRENCY_currency 1)',\n 'sum(e_CREDIT_CURRENCY_currency 2)',\n 'sum(e_CREDIT_CURRENCY_currency 3)',\n 'sum(e_CREDIT_CURRENCY_currency 4)',\n 'sum(e_CREDIT_TYPE_Another type of loan)',\n 'sum(e_CREDIT_TYPE_Car loan)',\n 'sum(e_CREDIT_TYPE_Cash loan (non-earmarked))',\n 'sum(e_CREDIT_TYPE_Consumer credit)',\n 'sum(e_CREDIT_TYPE_Credit card)',\n 'sum(e_CREDIT_TYPE_Interbank credit)',\n 'sum(e_CREDIT_TYPE_Loan for business development)',\n 'sum(e_CREDIT_TYPE_Loan for purchase of shares (margin lending))',\n 'sum(e_CREDIT_TYPE_Loan for the purchase of equipment)',\n 'sum(e_CREDIT_TYPE_Loan for working capital replenishment)',\n 'sum(e_CREDIT_TYPE_Microloan)',\n 'sum(e_CREDIT_TYPE_Mobile operator loan)',\n 'sum(e_CREDIT_TYPE_Mortgage)',\n 'sum(e_CREDIT_TYPE_Real estate loan)',\n 'sum(e_CREDIT_TYPE_Unknown type of loan)']"
      ]
     },
     "execution_count": 15,
     "metadata": {},
     "output_type": "execute_result"
    }
   ],
   "source": [
    "# bureau data\n",
    "bureau_num = agg_numeric(bureau,'SK_ID_CURR')\n",
    "bureau_cat = count_categorical(bureau,'SK_ID_CURR')\n",
    "bureau_client = bureau_num.join(bureau_cat, 'SK_ID_CURR')\n",
    "#bureau_client = bureau_num.join(bureau_cat, bureau_num.SK_ID_CURR == bureau_cat.SK_ID_CURR)\n",
    "bureau_client.columns"
   ]
  },
  {
   "cell_type": "code",
   "execution_count": 13,
   "metadata": {},
   "outputs": [
    {
     "name": "stdout",
     "output_type": "stream",
     "text": [
      "305811 50\n"
     ]
    },
    {
     "name": "stdout",
     "output_type": "stream",
     "text": [
      "305811 24\n"
     ]
    }
   ],
   "source": [
    "print(bureau_num.count(),len(bureau_num.columns))\n",
    "print(bureau_cat.count(),len(bureau_cat.columns))"
   ]
  },
  {
   "cell_type": "code",
   "execution_count": 16,
   "metadata": {},
   "outputs": [
    {
     "name": "stdout",
     "output_type": "stream",
     "text": [
      "305811 73\n"
     ]
    }
   ],
   "source": [
    "print(bureau_client.count(),len(bureau_client.columns))"
   ]
  },
  {
   "cell_type": "code",
   "execution_count": 23,
   "metadata": {},
   "outputs": [
    {
     "name": "stdout",
     "output_type": "stream",
     "text": [
      "1716428 17\n"
     ]
    }
   ],
   "source": [
    "print(bureau.count(),len(bureau.columns))"
   ]
  },
  {
   "cell_type": "code",
   "execution_count": 19,
   "metadata": {},
   "outputs": [
    {
     "name": "stdout",
     "output_type": "stream",
     "text": [
      "817395 6\n"
     ]
    },
    {
     "name": "stdout",
     "output_type": "stream",
     "text": [
      "817395 9\n"
     ]
    },
    {
     "name": "stdout",
     "output_type": "stream",
     "text": [
      "817395 14\n"
     ]
    }
   ],
   "source": [
    "# bureau balance\n",
    "bb_num = agg_numeric(bureau_balance,'SK_ID_BUREAU')\n",
    "bb_cat = count_categorical(bureau_balance,'SK_ID_BUREAU')\n",
    "bb_client = bb_num.join(bb_cat,bb_num.SK_ID_BUREAU == bb_cat.SK_ID_BUREAU).\\\n",
    "    drop(bb_cat.SK_ID_BUREAU)\n",
    "print(bb_num.count(),len(bb_num.columns))\n",
    "print(bb_cat.count(),len(bb_cat.columns))\n",
    "print(bb_client.count(),len(bb_client.columns))"
   ]
  },
  {
   "cell_type": "code",
   "execution_count": 32,
   "metadata": {
    "collapsed": true
   },
   "outputs": [
    {
     "ename": "NameError",
     "evalue": "name 'bb_client' is not defined",
     "traceback": [
      "\u001b[0;31m---------------------------------------------------------------------------\u001b[0m",
      "\u001b[0;31mNameError\u001b[0m                                 Traceback (most recent call last)",
      "\u001b[0;32m<ipython-input-32-b98e38782a7d>\u001b[0m in \u001b[0;36m<module>\u001b[0;34m()\u001b[0m\n\u001b[0;32m----> 1\u001b[0;31m bureau_with_balance = bureau.join(bb_client, bureau.SK_ID_BUREAU == bb_client.SK_ID_BUREAU,\n\u001b[0m\u001b[1;32m      2\u001b[0m                                   how= 'left_outer')\n\u001b[1;32m      3\u001b[0m \u001b[0mbureau_num\u001b[0m \u001b[0;34m=\u001b[0m \u001b[0magg_numeric\u001b[0m\u001b[0;34m(\u001b[0m\u001b[0mbureau_with_balance\u001b[0m\u001b[0;34m,\u001b[0m \u001b[0;34m'SK_ID_CURR'\u001b[0m\u001b[0;34m)\u001b[0m\u001b[0;34m\u001b[0m\u001b[0m\n\u001b[1;32m      4\u001b[0m \u001b[0mbureau_cat\u001b[0m \u001b[0;34m=\u001b[0m \u001b[0mcount_categorical\u001b[0m\u001b[0;34m(\u001b[0m\u001b[0mbureau_with_balance\u001b[0m\u001b[0;34m,\u001b[0m \u001b[0;34m'SK_ID_CURR'\u001b[0m\u001b[0;34m)\u001b[0m\u001b[0;34m\u001b[0m\u001b[0m\n\u001b[1;32m      5\u001b[0m \u001b[0mbureau_client1\u001b[0m \u001b[0;34m=\u001b[0m \u001b[0mbureau_num\u001b[0m\u001b[0;34m.\u001b[0m\u001b[0mjoin\u001b[0m\u001b[0;34m(\u001b[0m\u001b[0mbureau_cat\u001b[0m\u001b[0;34m,\u001b[0m \u001b[0mbureau_num\u001b[0m\u001b[0;34m.\u001b[0m\u001b[0mSK_ID_CURR\u001b[0m \u001b[0;34m==\u001b[0m \u001b[0mbureau_cat\u001b[0m\u001b[0;34m.\u001b[0m\u001b[0mSK_ID_CURR\u001b[0m\u001b[0;34m)\u001b[0m\u001b[0;34m.\u001b[0m\u001b[0mdrop\u001b[0m\u001b[0;34m(\u001b[0m\u001b[0mbureau_cat\u001b[0m\u001b[0;34m.\u001b[0m\u001b[0mSK_ID_CURR\u001b[0m\u001b[0;34m)\u001b[0m\u001b[0;34m\u001b[0m\u001b[0m\n",
      "\u001b[0;31mNameError\u001b[0m: name 'bb_client' is not defined"
     ],
     "output_type": "error"
    }
   ],
   "source": [
    "bureau_with_balance = bureau.join(bb_client, bureau.SK_ID_BUREAU == bb_client.SK_ID_BUREAU,\n",
    "                                  how= 'left_outer')\n",
    "bureau_num = agg_numeric(bureau_with_balance, 'SK_ID_CURR')\n",
    "bureau_cat = count_categorical(bureau_with_balance, 'SK_ID_CURR')\n",
    "bureau_client1 = bureau_num.join(bureau_cat, bureau_num.SK_ID_CURR == bureau_cat.SK_ID_CURR).drop(bureau_cat.SK_ID_CURR)\n",
    "bureau_client1.show()\n",
    "print(bureau_client1.count(),len(bureau_client1.columns))"
   ]
  },
  {
   "cell_type": "code",
   "execution_count": 30,
   "metadata": {},
   "outputs": [],
   "source": [
    "credit_card_balance = spark.read.option(\"inferSchema\", True).\\\n",
    "    csv('/Users/michaelyang/Downloads/all_data/credit_card_balance.csv',header=True)\n",
    "cc20 = spark.read.option(\"inferSchema\", True).\\\n",
    "    csv('/Users/michaelyang/PycharmProjects/home-credit/20LineCSVs/credit_card_balance.csv',header=True)\n"
   ]
  },
  {
   "cell_type": "code",
   "execution_count": 36,
   "metadata": {},
   "outputs": [
    {
     "data": {
      "text/plain": [
       "['SK_ID_CURR',\n 'SK_ID_BUREAU',\n 'CREDIT_ACTIVE',\n 'CREDIT_CURRENCY',\n 'DAYS_CREDIT',\n 'CREDIT_DAY_OVERDUE',\n 'DAYS_CREDIT_ENDDATE',\n 'DAYS_ENDDATE_FACT',\n 'AMT_CREDIT_MAX_OVERDUE',\n 'CNT_CREDIT_PROLONG',\n 'AMT_CREDIT_SUM',\n 'AMT_CREDIT_SUM_DEBT',\n 'AMT_CREDIT_SUM_LIMIT',\n 'AMT_CREDIT_SUM_OVERDUE',\n 'CREDIT_TYPE',\n 'DAYS_CREDIT_UPDATE',\n 'AMT_ANNUITY',\n 'count',\n 'SK_ID_BUREAU',\n 'avg(MONTHS_BALANCE)',\n 'max(MONTHS_BALANCE)',\n 'min(MONTHS_BALANCE)',\n 'sum(MONTHS_BALANCE)',\n 'sum(e_STATUS_0)',\n 'sum(e_STATUS_1)',\n 'sum(e_STATUS_2)',\n 'sum(e_STATUS_3)',\n 'sum(e_STATUS_4)',\n 'sum(e_STATUS_5)',\n 'sum(e_STATUS_C)',\n 'sum(e_STATUS_X)']"
      ]
     },
     "execution_count": 36,
     "metadata": {},
     "output_type": "execute_result"
    }
   ],
   "source": [
    "bureau_with_balance.columns"
   ]
  },
  {
   "cell_type": "code",
   "execution_count": 31,
   "metadata": {},
   "outputs": [
    {
     "name": "stdout",
     "output_type": "stream",
     "text": [
      "3840312 23\n"
     ]
    }
   ],
   "source": [
    "print(credit_card_balance.count(),len(credit_card_balance.columns))\n"
   ]
  },
  {
   "cell_type": "code",
   "execution_count": 26,
   "metadata": {},
   "outputs": [
    {
     "name": "stdout",
     "output_type": "stream",
     "text": [
      "+----------+---------------+---------------+---------------------------+--------------------------+--------------------+-----------------------+-------------------+------------------+\n|SK_ID_PREV|avg(SK_ID_PREV)|avg(SK_ID_CURR)|avg(NUM_INSTALMENT_VERSION)|avg(NUM_INSTALMENT_NUMBER)|avg(DAYS_INSTALMENT)|avg(DAYS_ENTRY_PAYMENT)|avg(AMT_INSTALMENT)|  avg(AMT_PAYMENT)|\n+----------+---------------+---------------+---------------------------+--------------------------+--------------------+-----------------------+-------------------+------------------+\n|   2103465|      2103465.0|       135097.0|                        1.0|                       6.5|             -1888.0|    -1910.9166666666667| 3224.7412499999996|3224.7412499999996|\n|   2173518|      2173518.0|       107689.0|                        0.0|                      55.0| -1484.2385321100917|    -1488.0825688073394|  6036.781376146789| 6036.781376146789|\n|   2317312|      2317312.0|       160192.0|                        1.0|                       9.5|              -730.0|     -731.9444444444445|           2350.665|          2350.665|\n|   2701542|      2701542.0|       166039.0|                        0.0|         48.30927835051546| -1384.9896907216496|    -1389.0309278350514| 4004.0406185567012|3962.3488144329895|\n|   2078008|      2078008.0|       127160.0|                        1.0|         3.857142857142857| -1698.2857142857142|    -1699.7142857142858|  13754.82857142857|11787.942857142856|\n|   1956371|      1956371.0|       183432.0|                        0.0|                      30.0|  -675.3389830508474|     -678.3220338983051|    9633.9256779661|   9633.9256779661|\n|   1472128|      1472128.0|       129553.0|         1.0454545454545454|        10.272727272727273| -1243.8181818181818|    -1249.5454545454545| 12502.587272727274|11088.511363636364|\n|   2198615|      2198615.0|       139525.0|         1.2727272727272727|         5.818181818181818|  -989.4545454545455|     -995.3636363636364|  14060.30318181818|15507.961363636365|\n|   1830491|      1830491.0|       192825.0|         1.0909090909090908|                       6.0|             -1932.0|    -1937.2727272727273|  4511.843181818182| 4511.843181818182|\n|   1895298|      1895298.0|       121622.0|                      1.125|                       4.5|              -767.0|               -771.625|        74047.33125|       74047.33125|\n|   2208684|      2208684.0|       102101.0|         1.4615384615384615|         6.846153846153846| -445.61538461538464|    -450.38461538461536|  9584.224615384617| 8852.337692307694|\n|   1312039|      1312039.0|       173301.0|                        0.0|         62.00813008130081|   -945.959349593496|     -949.1626016260162|  5838.360000000001| 5838.360000000001|\n|   2118699|      2118699.0|       164689.0|                        0.0|         33.57142857142857|  -735.6428571428571|     -734.4857142857143| 2725.3041428571423|2574.4512857142854|\n|   1772479|      1772479.0|       157191.0|                        0.0|                      23.0| -405.55555555555554|    -409.73333333333335|          16622.199|         16622.199|\n|   1146838|      1146838.0|       161366.0|         1.0434782608695652|        11.521739130434783| -1031.3478260869565|    -1038.0869565217392|  4836.281086956522| 4642.033695652174|\n|   2836367|      2836367.0|       167290.0|                        1.0|                      12.5|             -2270.0|               -2279.25| 2583.4687499999995|2583.4687499999995|\n|   1638723|      1638723.0|       127186.0|                        1.0|                       7.4|             -1769.0|    -1772.1333333333334|  7343.043000000001|          5874.951|\n|   2660951|      2660951.0|       138802.0|         1.0476190476190477|                      11.0|              -365.0|    -379.04761904761904|  6040.797857142858| 6040.797857142858|\n|   1111233|      1111233.0|       188794.0|                        1.0|        12.153846153846153| -336.38461538461536|    -340.88461538461536|            4674.78| 4135.382307692307|\n|   1684415|      1684415.0|       165017.0|         1.1111111111111112|        3.6666666666666665|              -853.0|     -863.6666666666666|            7818.66| 6157.844999999999|\n+----------+---------------+---------------+---------------------------+--------------------------+--------------------+-----------------------+-------------------+------------------+\nonly showing top 20 rows\n\n"
     ]
    }
   ],
   "source": [
    "df = spark.read.option(\"inferSchema\", True).\\\n",
    "    csv('/Users/michaelyang/Downloads/all_data/installments_payments.csv',header=True)\n",
    "numerical_feats= [f for f,t in df.dtypes if t != 'string']\n",
    "numeric_df = df.select(numerical_feats)\n",
    "num_gb = numeric_df.groupBy('SK_ID_PREV').avg()\n"
   ]
  },
  {
   "cell_type": "code",
   "execution_count": 23,
   "metadata": {},
   "outputs": [
    {
     "data": {
      "text/plain": [
       "['SK_ID_PREV',\n 'SK_ID_CURR',\n 'NUM_INSTALMENT_VERSION',\n 'NUM_INSTALMENT_NUMBER',\n 'DAYS_INSTALMENT',\n 'DAYS_ENTRY_PAYMENT',\n 'AMT_INSTALMENT',\n 'AMT_PAYMENT']"
      ]
     },
     "execution_count": 23,
     "metadata": {},
     "output_type": "execute_result"
    }
   ],
   "source": [
    "numerical_feats"
   ]
  },
  {
   "cell_type": "code",
   "execution_count": 25,
   "metadata": {},
   "outputs": [
    {
     "data": {
      "text/plain": [
       "2"
      ]
     },
     "execution_count": 25,
     "metadata": {},
     "output_type": "execute_result"
    }
   ],
   "source": [
    "df  = spark.read.option(\"inferSchema\", True)\\\n",
    "    .csv('/Users/michaelyang/Downloads/all_data/bureau_balance.csv',header=True)\n",
    "numerical_feats= [f for f,t in df.dtypes if t != 'string']\n",
    "len(numerical_feats)"
   ]
  },
  {
   "cell_type": "code",
   "execution_count": 30,
   "metadata": {},
   "outputs": [
    {
     "name": "stdout",
     "output_type": "stream",
     "text": [
      "+-------------+---------------+---------------+----------+------+--------+------+----+\n|CREDIT_ACTIVE|CREDIT_CURRENCY|    CREDIT_TYPE|SK_ID_CURR|Active|Bad debt|Closed|Sold|\n+-------------+---------------+---------------+----------+------+--------+------+----+\n|       Closed|     currency 1|Consumer credit|    293201|  null|    null|     4|null|\n|       Active|     currency 1|Consumer credit|    198319|     2|    null|  null|null|\n|       Active|     currency 1|    Credit card|    170937|     1|    null|  null|null|\n|       Closed|     currency 1|Consumer credit|    274204|  null|    null|     3|null|\n|       Closed|     currency 1|Consumer credit|    422912|  null|    null|     3|null|\n|       Closed|     currency 1|       Car loan|    419911|  null|    null|     1|null|\n|       Active|     currency 1|       Mortgage|    408406|     1|    null|  null|null|\n|       Closed|     currency 1|    Credit card|    213878|  null|    null|     1|null|\n|       Active|     currency 1|    Credit card|    102099|     1|    null|  null|null|\n|       Active|     currency 1|Consumer credit|    308889|     2|    null|  null|null|\n|       Closed|     currency 1|Consumer credit|    399053|  null|    null|     3|null|\n|       Active|     currency 1|       Car loan|    180141|     1|    null|  null|null|\n|       Active|     currency 1|Consumer credit|    182046|     2|    null|  null|null|\n|       Closed|     currency 1|Consumer credit|    125741|  null|    null|     1|null|\n|       Active|     currency 1|Consumer credit|    330607|     1|    null|  null|null|\n|       Active|     currency 1|Consumer credit|    282781|     2|    null|  null|null|\n|       Closed|     currency 1|Consumer credit|    280924|  null|    null|     3|null|\n|       Closed|     currency 1|Consumer credit|    266958|  null|    null|     1|null|\n|       Closed|     currency 1|Consumer credit|    106932|  null|    null|     9|null|\n|       Active|     currency 1|Consumer credit|    180447|     1|    null|  null|null|\n+-------------+---------------+---------------+----------+------+--------+------+----+\nonly showing top 20 rows\n\n"
     ]
    }
   ],
   "source": [
    "df = spark.read.option(\"inferSchema\", True).\\\n",
    "    csv('/Users/michaelyang/Downloads/all_data/bureau.csv',header=True)\n",
    "pivot_cols = [f for f, t in df.dtypes if t == 'string']\n",
    "keys = pivot_cols + ['SK_ID_CURR']\n",
    "before = df.select(keys)\n",
    "pivotDF = before.groupBy(keys).pivot('CREDIT_ACTIVE').count()\n",
    "pivotDF.show()"
   ]
  },
  {
   "cell_type": "code",
   "execution_count": 31,
   "metadata": {},
   "outputs": [
    {
     "data": {
      "text/plain": [
       "['CREDIT_ACTIVE',\n 'CREDIT_CURRENCY',\n 'CREDIT_TYPE',\n 'SK_ID_CURR',\n 'e_CREDIT_CURRENCY_Active',\n 'e_CREDIT_CURRENCY_Bad debt',\n 'e_CREDIT_CURRENCY_Closed',\n 'e_CREDIT_CURRENCY_Sold']"
      ]
     },
     "execution_count": 31,
     "metadata": {},
     "output_type": "execute_result"
    }
   ],
   "source": [
    "new_names = pivotDF.columns[:len(keys)] + [\"e_{0}_{1}\".format('CREDIT_CURRENCY', c) for c in\n",
    "                                           pivotDF.columns[len(keys):]]\n"
   ]
  },
  {
   "cell_type": "code",
   "execution_count": 42,
   "metadata": {},
   "outputs": [
    {
     "name": "stdout",
     "output_type": "stream",
     "text": [
      "+---------------------------------+------------+----------------------------------+----------------------------------+----------------------------------+----------------------------------+\n|count(bureau_balanceSK_ID_BUREAU)|SK_ID_BUREAU|bureau_balance_avg(MONTHS_BALANCE)|bureau_balance_max(MONTHS_BALANCE)|bureau_balance_min(MONTHS_BALANCE)|bureau_balance_sum(MONTHS_BALANCE)|\n+---------------------------------+------------+----------------------------------+----------------------------------+----------------------------------+----------------------------------+\n|                               23|     5001812|                             -11.0|                                 0|                               -22|                              -253|\n|                                9|     5001849|                              -4.0|                                 0|                                -8|                               -36|\n|                               20|     5001921|                              -9.5|                                 0|                               -19|                              -190|\n|                               91|     5001980|                             -45.0|                                 0|                               -90|                             -4095|\n|                               93|     5002090|                             -46.0|                                 0|                               -92|                             -4278|\n|                               69|     5002466|                             -34.0|                                 0|                               -68|                             -2346|\n|                               34|     5003338|                             -16.5|                                 0|                               -33|                              -561|\n|                                8|     5003386|                              -3.5|                                 0|                                -7|                               -28|\n|                               17|     5003485|                              -8.0|                                 0|                               -16|                              -136|\n|                               45|     5003623|                             -22.0|                                 0|                               -44|                              -990|\n|                               22|     5004426|                             -10.5|                                 0|                               -21|                              -231|\n|                               14|     5004485|                              -7.5|                                -1|                               -14|                              -105|\n|                               50|     5004511|                             -24.5|                                 0|                               -49|                             -1225|\n|                               17|     5004620|                              -8.0|                                 0|                               -16|                              -136|\n|                               38|     5004650|                             -18.5|                                 0|                               -37|                              -703|\n|                               29|     5004774|                             -14.0|                                 0|                               -28|                              -406|\n|                                7|     5005000|                              -3.0|                                 0|                                -6|                               -21|\n|                               97|     5005413|                             -48.0|                                 0|                               -96|                             -4656|\n|                               83|     5005499|                             -41.0|                                 0|                               -82|                             -3403|\n|                               36|     5005607|                             -17.5|                                 0|                               -35|                              -630|\n+---------------------------------+------------+----------------------------------+----------------------------------+----------------------------------+----------------------------------+\nonly showing top 20 rows\n\n"
     ]
    }
   ],
   "source": [
    "bb_num = agg_numeric(bureau_balance,'SK_ID_BUREAU','bureau_balance')\n",
    "new_names = bb_num.columns[:2] + [\"{0}_{1}\".format('bureau_balance', c) for c in\n",
    "                                           bb_num.columns[2:]]\n",
    "bb_num = bb_num.toDF(*new_names)\n",
    "bb_num.show()"
   ]
  },
  {
   "cell_type": "code",
   "execution_count": null,
   "metadata": {},
   "outputs": [],
   "source": []
  }
 ],
 "metadata": {
  "kernelspec": {
   "display_name": "Python 2",
   "language": "python",
   "name": "python2"
  },
  "language_info": {
   "codemirror_mode": {
    "name": "ipython",
    "version": 2
   },
   "file_extension": ".py",
   "mimetype": "text/x-python",
   "name": "python",
   "nbconvert_exporter": "python",
   "pygments_lexer": "ipython2",
   "version": "2.7.6"
  }
 },
 "nbformat": 4,
 "nbformat_minor": 0
}
